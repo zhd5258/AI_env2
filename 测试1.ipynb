{
 "cells": [
  {
   "cell_type": "code",
   "execution_count": null,
   "id": "d1a8c082",
   "metadata": {},
   "outputs": [],
   "source": [
    "import os\n",
    "import tempfile\n",
    "from PyPDF2 import PdfReader, PdfWriter\n",
    "from pdf2image import convert_from_path\n",
    "\n",
    "\n",
    "def ocr_pdf_with_acrobat(input_pdf_path, output_pdf_path):\n",
    "    \"\"\"\n",
    "    使用Acrobat DC Pro的OCR功能处理PDF文件\n",
    "\n",
    "    参数:\n",
    "        input_pdf_path: 输入PDF文件路径\n",
    "        output_pdf_path: 输出PDF文件路径\n",
    "    \"\"\"\n",
    "    # 检查Acrobat是否安装\n",
    "    if not os.path.exists(r'C:\\Program Files\\Adobe\\Acrobat DC\\Acrobat\\Acrobat.exe'):\n",
    "        raise Exception(\"Adobe Acrobat DC Pro not found. Please ensure it's installed.\")\n",
    "\n",
    "    # 使用Acrobat的OCR命令行工具\n",
    "    # 注意：Acrobat的OCR命令行工具需要单独配置\n",
    "    acrobat_path = r'C:\\Program Files\\Adobe\\Acrobat DC\\Acrobat\\Acrobat.exe'\n",
    "    cmd = f'\"{acrobat_path}\" -nogui -sDOCSEARCHPATH=\"{input_pdf_path}\" -sOUTPUT=\"{output_pdf_path}\" -sOCROPTIONS=\"text\" -sDOCSEARCHPATTERNS=\"*.pdf\"'\n",
    "\n",
    "    print('正在执行OCR处理，这可能需要几分钟...')\n",
    "    os.system(cmd)\n",
    "    print('OCR处理完成！')\n",
    "\n",
    "\n",
    "# 使用示例\n",
    "if __name__ == '__main__':\n",
    "    input_pdf = 'input_graphic.pdf'  # 替换为你的输入文件路径\n",
    "    output_pdf = 'output_editable.pdf'  # 替换为你的输出文件路径\n",
    "\n",
    "    ocr_pdf_with_acrobat(input_pdf, output_pdf)\n"
   ]
  }
 ],
 "metadata": {
  "language_info": {
   "name": "python"
  }
 },
 "nbformat": 4,
 "nbformat_minor": 5
}
